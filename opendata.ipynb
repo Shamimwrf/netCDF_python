{
 "cells": [
  {
   "cell_type": "code",
   "execution_count": 1,
   "id": "d4b54b3b-6c7b-4569-89a4-15fa7e161379",
   "metadata": {},
   "outputs": [],
   "source": [
    "import xarray as xr"
   ]
  },
  {
   "cell_type": "code",
   "execution_count": 2,
   "id": "f47fcf13-5c9a-4105-a48d-c21e0cad04bd",
   "metadata": {},
   "outputs": [],
   "source": [
    "ds = xr.open_dataset('data/precipitation.nc')\n",
    "df = ds.to_dataframe()"
   ]
  },
  {
   "cell_type": "code",
   "execution_count": 3,
   "id": "8de7e31f-bd97-4ec1-b7fd-e982361c363c",
   "metadata": {},
   "outputs": [
    {
     "data": {
      "text/html": [
       "<div>\n",
       "<style scoped>\n",
       "    .dataframe tbody tr th:only-of-type {\n",
       "        vertical-align: middle;\n",
       "    }\n",
       "\n",
       "    .dataframe tbody tr th {\n",
       "        vertical-align: top;\n",
       "    }\n",
       "\n",
       "    .dataframe thead th {\n",
       "        text-align: right;\n",
       "    }\n",
       "</style>\n",
       "<table border=\"1\" class=\"dataframe\">\n",
       "  <thead>\n",
       "    <tr style=\"text-align: right;\">\n",
       "      <th></th>\n",
       "      <th></th>\n",
       "      <th></th>\n",
       "      <th>gwgt</th>\n",
       "      <th>prc</th>\n",
       "    </tr>\n",
       "    <tr>\n",
       "      <th>lat</th>\n",
       "      <th>lon</th>\n",
       "      <th>time</th>\n",
       "      <th></th>\n",
       "      <th></th>\n",
       "    </tr>\n",
       "  </thead>\n",
       "  <tbody>\n",
       "    <tr>\n",
       "      <th rowspan=\"5\" valign=\"top\">-87.8638</th>\n",
       "      <th rowspan=\"5\" valign=\"top\">0.0000</th>\n",
       "      <th>7901.0</th>\n",
       "      <td>0.001783</td>\n",
       "      <td>0.073717</td>\n",
       "    </tr>\n",
       "    <tr>\n",
       "      <th>7902.0</th>\n",
       "      <td>0.001783</td>\n",
       "      <td>0.101973</td>\n",
       "    </tr>\n",
       "    <tr>\n",
       "      <th>7903.0</th>\n",
       "      <td>0.001783</td>\n",
       "      <td>0.383357</td>\n",
       "    </tr>\n",
       "    <tr>\n",
       "      <th>7904.0</th>\n",
       "      <td>0.001783</td>\n",
       "      <td>0.148479</td>\n",
       "    </tr>\n",
       "    <tr>\n",
       "      <th>7905.0</th>\n",
       "      <td>0.001783</td>\n",
       "      <td>0.050824</td>\n",
       "    </tr>\n",
       "    <tr>\n",
       "      <th>...</th>\n",
       "      <th>...</th>\n",
       "      <th>...</th>\n",
       "      <td>...</td>\n",
       "      <td>...</td>\n",
       "    </tr>\n",
       "    <tr>\n",
       "      <th rowspan=\"5\" valign=\"top\">87.8638</th>\n",
       "      <th rowspan=\"5\" valign=\"top\">357.1875</th>\n",
       "      <th>9608.0</th>\n",
       "      <td>0.001783</td>\n",
       "      <td>0.625571</td>\n",
       "    </tr>\n",
       "    <tr>\n",
       "      <th>9609.0</th>\n",
       "      <td>0.001783</td>\n",
       "      <td>0.476778</td>\n",
       "    </tr>\n",
       "    <tr>\n",
       "      <th>9610.0</th>\n",
       "      <td>0.001783</td>\n",
       "      <td>0.098615</td>\n",
       "    </tr>\n",
       "    <tr>\n",
       "      <th>9611.0</th>\n",
       "      <td>0.001783</td>\n",
       "      <td>0.395300</td>\n",
       "    </tr>\n",
       "    <tr>\n",
       "      <th>9612.0</th>\n",
       "      <td>0.001783</td>\n",
       "      <td>0.165964</td>\n",
       "    </tr>\n",
       "  </tbody>\n",
       "</table>\n",
       "<p>1769472 rows × 2 columns</p>\n",
       "</div>"
      ],
      "text/plain": [
       "                              gwgt       prc\n",
       "lat      lon      time                      \n",
       "-87.8638 0.0000   7901.0  0.001783  0.073717\n",
       "                  7902.0  0.001783  0.101973\n",
       "                  7903.0  0.001783  0.383357\n",
       "                  7904.0  0.001783  0.148479\n",
       "                  7905.0  0.001783  0.050824\n",
       "...                            ...       ...\n",
       " 87.8638 357.1875 9608.0  0.001783  0.625571\n",
       "                  9609.0  0.001783  0.476778\n",
       "                  9610.0  0.001783  0.098615\n",
       "                  9611.0  0.001783  0.395300\n",
       "                  9612.0  0.001783  0.165964\n",
       "\n",
       "[1769472 rows x 2 columns]"
      ]
     },
     "execution_count": 3,
     "metadata": {},
     "output_type": "execute_result"
    }
   ],
   "source": [
    "df"
   ]
  },
  {
   "cell_type": "code",
   "execution_count": null,
   "id": "59159c4d-d26e-4f77-9110-db57c26c9ad8",
   "metadata": {},
   "outputs": [],
   "source": []
  }
 ],
 "metadata": {
  "kernelspec": {
   "display_name": "Python 3 (ipykernel)",
   "language": "python",
   "name": "python3"
  },
  "language_info": {
   "codemirror_mode": {
    "name": "ipython",
    "version": 3
   },
   "file_extension": ".py",
   "mimetype": "text/x-python",
   "name": "python",
   "nbconvert_exporter": "python",
   "pygments_lexer": "ipython3",
   "version": "3.9.13"
  }
 },
 "nbformat": 4,
 "nbformat_minor": 5
}
